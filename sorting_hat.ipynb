{
 "cells": [
  {
   "cell_type": "code",
   "execution_count": 1,
   "id": "dcb7ed5b-75fa-4c30-ba20-6c008e0ac87b",
   "metadata": {
    "tags": []
   },
   "outputs": [
    {
     "name": "stdout",
     "output_type": "stream",
     "text": [
      "Q1) Do you like Dawn or Dusk?\n",
      "    1) Dawn\n",
      "    2) Dusk\n"
     ]
    },
    {
     "name": "stdin",
     "output_type": "stream",
     "text": [
      " 1\n"
     ]
    },
    {
     "name": "stdout",
     "output_type": "stream",
     "text": [
      "Q2) When I’m dead, I want people to remember me as:\n",
      "    1) The Good\n",
      "    2) The Great\n",
      "    3) The Wise\n",
      "    4) The Bold\n"
     ]
    },
    {
     "name": "stdin",
     "output_type": "stream",
     "text": [
      " 4\n"
     ]
    },
    {
     "name": "stdout",
     "output_type": "stream",
     "text": [
      "Q3) Which kind of instrument most pleases your ear?\n",
      "    1) The violin\n",
      "    2) The trumpet\n",
      "    3) The piano\n",
      "    4) The drum\n"
     ]
    },
    {
     "name": "stdin",
     "output_type": "stream",
     "text": [
      " 4\n"
     ]
    },
    {
     "name": "stdout",
     "output_type": "stream",
     "text": [
      "you are in Gryffindor!\n"
     ]
    }
   ],
   "source": [
    "Gryffindor=0\n",
    "Ravenclaw=0\n",
    "Hufflepuff=0\n",
    "Slytherin=0\n",
    "\n",
    "print('Q1) Do you like Dawn or Dusk?')\n",
    "print('    1) Dawn')\n",
    "print('    2) Dusk')\n",
    "answer=int(input())\n",
    "\n",
    "if answer==1:\n",
    "    Gryffindor=Gryffindor+1\n",
    "    Ravenclaw=Ravenclaw+1\n",
    "else:\n",
    "    Hufflepuff=Hufflepuff+1\n",
    "    Slytherin=Slytherin+1\n",
    "\n",
    "print('Q2) When I’m dead, I want people to remember me as:')\n",
    "print('    1) The Good')\n",
    "print('    2) The Great')\n",
    "print('    3) The Wise')\n",
    "print('    4) The Bold')\n",
    "answer=int(input())\n",
    "\n",
    "if answer==1:\n",
    "    Hufflepuff=Hufflepuff+2\n",
    "elif answer==2:\n",
    "    Slytherin=Slytherin+2\n",
    "elif answer==3:\n",
    "    Ravenclaw=Ravenclaw+2\n",
    "elif answer==4:\n",
    "      Gryffindor=Gryffindor+2\n",
    "    \n",
    "print('Q3) Which kind of instrument most pleases your ear?')\n",
    "print('    1) The violin')\n",
    "print('    2) The trumpet')\n",
    "print('    3) The piano')\n",
    "print('    4) The drum')\n",
    "answer=int(input())\n",
    "\n",
    "if answer==1:\n",
    "    Slytherin=Slytherin+4\n",
    "elif answer==2:\n",
    "    Hufflepuff=Hufflepuff+4\n",
    "elif answer==3:\n",
    "    Ravenclaw=Ravenclaw+4\n",
    "elif answer==4:\n",
    "      Gryffindor=Gryffindor+4\n",
    "        \n",
    "largest=max(Slytherin,Hufflepuff,Ravenclaw,Gryffindor)\n",
    "if Slytherin==largest:\n",
    "    print('you are in Slytherin???????????!!!!!!!!!!!!')\n",
    "elif Hufflepuff==largest:\n",
    "    print('you are in Hufflepuff!')\n",
    "elif Ravenclaw==largest:\n",
    "    print('you are in Ravenclaw!')\n",
    "elif Gryffindor==largest:\n",
    "    print('you are in Gryffindor!')"
   ]
  },
  {
   "cell_type": "code",
   "execution_count": null,
   "id": "a9d1e7a8-a981-47f9-bcff-0e64bb663b2a",
   "metadata": {},
   "outputs": [],
   "source": []
  },
  {
   "cell_type": "code",
   "execution_count": null,
   "id": "96abc45b-21f5-40e4-819e-384fcfe8eb98",
   "metadata": {},
   "outputs": [],
   "source": []
  },
  {
   "cell_type": "code",
   "execution_count": null,
   "id": "71f01749-1380-4053-9a89-3475011d770f",
   "metadata": {},
   "outputs": [],
   "source": []
  },
  {
   "cell_type": "code",
   "execution_count": null,
   "id": "4207a484-04ef-4d58-bd45-c781994e107c",
   "metadata": {},
   "outputs": [],
   "source": []
  },
  {
   "cell_type": "code",
   "execution_count": null,
   "id": "72e0336f-52aa-4aab-9ef0-8bc1c538bc59",
   "metadata": {},
   "outputs": [],
   "source": []
  },
  {
   "cell_type": "code",
   "execution_count": null,
   "id": "f2929f30-1d99-4b76-9ea3-3bfe1e8a1a81",
   "metadata": {},
   "outputs": [],
   "source": []
  },
  {
   "cell_type": "code",
   "execution_count": null,
   "id": "28f6450a-05e2-49c3-82d9-4d6baea604d0",
   "metadata": {},
   "outputs": [],
   "source": []
  },
  {
   "cell_type": "code",
   "execution_count": null,
   "id": "33ee5b6d-937d-414f-b88f-d8987ba3c491",
   "metadata": {},
   "outputs": [],
   "source": []
  },
  {
   "cell_type": "code",
   "execution_count": null,
   "id": "b17dde08-015e-4e3b-aa0b-5d81ea41e59c",
   "metadata": {},
   "outputs": [],
   "source": []
  },
  {
   "cell_type": "code",
   "execution_count": null,
   "id": "05102eea-c075-4f0b-9ac3-0ce6113f44ba",
   "metadata": {},
   "outputs": [],
   "source": []
  },
  {
   "cell_type": "code",
   "execution_count": null,
   "id": "ecdf297d-f7a3-45fd-bcad-58fdca2a2059",
   "metadata": {},
   "outputs": [],
   "source": []
  },
  {
   "cell_type": "code",
   "execution_count": null,
   "id": "727852da-3469-4a62-8f56-ebe1186b52ad",
   "metadata": {},
   "outputs": [],
   "source": []
  },
  {
   "cell_type": "code",
   "execution_count": null,
   "id": "1cdc6418-df40-4330-90fd-f4f12522eddb",
   "metadata": {},
   "outputs": [],
   "source": []
  },
  {
   "cell_type": "code",
   "execution_count": null,
   "id": "3f3b7059-cf6f-4876-8da6-bee592b90522",
   "metadata": {},
   "outputs": [],
   "source": []
  },
  {
   "cell_type": "code",
   "execution_count": null,
   "id": "f2d50710-72ee-4e13-99a2-06a3f4255c8d",
   "metadata": {},
   "outputs": [],
   "source": []
  },
  {
   "cell_type": "code",
   "execution_count": null,
   "id": "c80119e2-76d9-41ad-b78f-df235d1af1c7",
   "metadata": {},
   "outputs": [],
   "source": []
  },
  {
   "cell_type": "code",
   "execution_count": null,
   "id": "e24372b1-c485-4a31-a9ca-210f2180fc8b",
   "metadata": {},
   "outputs": [],
   "source": []
  },
  {
   "cell_type": "code",
   "execution_count": null,
   "id": "b947650c-3472-4ae5-a595-729cc6db4901",
   "metadata": {},
   "outputs": [],
   "source": []
  },
  {
   "cell_type": "code",
   "execution_count": null,
   "id": "748a1dc1-aa4c-4406-8eb5-8472afafe7c3",
   "metadata": {},
   "outputs": [],
   "source": []
  },
  {
   "cell_type": "code",
   "execution_count": null,
   "id": "16b749eb-ea5f-48b6-bb3f-1a1fbad7af06",
   "metadata": {},
   "outputs": [],
   "source": []
  },
  {
   "cell_type": "code",
   "execution_count": null,
   "id": "ec4b1926-6cd3-4d9c-bef6-5527bc023c31",
   "metadata": {},
   "outputs": [],
   "source": []
  },
  {
   "cell_type": "code",
   "execution_count": null,
   "id": "b1547f90-7bba-4665-bf2b-e83c2fca62fb",
   "metadata": {},
   "outputs": [],
   "source": []
  },
  {
   "cell_type": "code",
   "execution_count": null,
   "id": "697043d8-0862-48ef-8dde-72d2525a43ec",
   "metadata": {},
   "outputs": [],
   "source": []
  },
  {
   "cell_type": "code",
   "execution_count": null,
   "id": "ef70cc09-22f1-4a30-ab52-dc66c8f2e03b",
   "metadata": {},
   "outputs": [],
   "source": []
  },
  {
   "cell_type": "code",
   "execution_count": null,
   "id": "73a91215-16b6-450f-8006-ba6c6373b86a",
   "metadata": {},
   "outputs": [],
   "source": []
  },
  {
   "cell_type": "code",
   "execution_count": null,
   "id": "01c84a1e-7aa9-40e0-9661-fac22a102f60",
   "metadata": {},
   "outputs": [],
   "source": []
  },
  {
   "cell_type": "code",
   "execution_count": null,
   "id": "47a6f27a-a3e1-4d7e-8f40-b4be46337721",
   "metadata": {},
   "outputs": [],
   "source": []
  },
  {
   "cell_type": "code",
   "execution_count": null,
   "id": "ab9e63f4-ece8-4fde-95b9-c9753b3e618f",
   "metadata": {},
   "outputs": [],
   "source": []
  },
  {
   "cell_type": "code",
   "execution_count": null,
   "id": "2d8b6ad6-d08e-4cf9-ae29-6f3a2f9e2380",
   "metadata": {},
   "outputs": [],
   "source": []
  },
  {
   "cell_type": "code",
   "execution_count": null,
   "id": "f9576e7e-8fe0-4de6-81ce-6b2dcc076154",
   "metadata": {},
   "outputs": [],
   "source": []
  },
  {
   "cell_type": "code",
   "execution_count": null,
   "id": "fa9e719b-3326-41d3-97ed-56fc78e0fd0c",
   "metadata": {},
   "outputs": [],
   "source": []
  },
  {
   "cell_type": "code",
   "execution_count": null,
   "id": "50a604c3-5952-4be1-b91f-dc2a9da53904",
   "metadata": {},
   "outputs": [],
   "source": []
  },
  {
   "cell_type": "code",
   "execution_count": null,
   "id": "d4e1b4bb-9872-4f00-b9eb-0ae525924550",
   "metadata": {},
   "outputs": [],
   "source": []
  },
  {
   "cell_type": "code",
   "execution_count": null,
   "id": "9207ed9f-b521-4fd5-a227-85c8acba2f84",
   "metadata": {},
   "outputs": [],
   "source": []
  },
  {
   "cell_type": "code",
   "execution_count": null,
   "id": "fc6fa853-64c9-4398-afe7-87a34495f667",
   "metadata": {},
   "outputs": [],
   "source": []
  },
  {
   "cell_type": "code",
   "execution_count": null,
   "id": "f6c84e4f-ac90-4e51-8e7c-fd8b67419457",
   "metadata": {},
   "outputs": [],
   "source": []
  },
  {
   "cell_type": "code",
   "execution_count": null,
   "id": "40bcae30-fa8c-4f77-829c-cd52c982bead",
   "metadata": {},
   "outputs": [],
   "source": []
  },
  {
   "cell_type": "code",
   "execution_count": null,
   "id": "a5828846-437f-4d90-b0a8-ebd39bb3ae6f",
   "metadata": {},
   "outputs": [],
   "source": []
  },
  {
   "cell_type": "code",
   "execution_count": null,
   "id": "00b00cd3-1f82-498d-a74b-98038aa3bb4f",
   "metadata": {},
   "outputs": [],
   "source": []
  },
  {
   "cell_type": "code",
   "execution_count": null,
   "id": "1dc7b31c-fe73-4e74-a623-e867e8a60a7c",
   "metadata": {},
   "outputs": [],
   "source": []
  },
  {
   "cell_type": "code",
   "execution_count": null,
   "id": "4052e2b0-39b9-4804-92bf-b63c1fb426da",
   "metadata": {},
   "outputs": [],
   "source": []
  },
  {
   "cell_type": "code",
   "execution_count": null,
   "id": "b5fcca76-16cc-4fd8-8ee1-b7d10cca926b",
   "metadata": {},
   "outputs": [],
   "source": []
  },
  {
   "cell_type": "code",
   "execution_count": null,
   "id": "b8d3ddc5-21d1-47f5-9660-afea84a0f992",
   "metadata": {},
   "outputs": [],
   "source": []
  },
  {
   "cell_type": "code",
   "execution_count": null,
   "id": "f79e0dce-28fb-471b-8e8e-5eaeceb22be0",
   "metadata": {},
   "outputs": [],
   "source": []
  },
  {
   "cell_type": "code",
   "execution_count": null,
   "id": "fef3ab59-b2e0-4819-a2f7-a94b083a2a72",
   "metadata": {},
   "outputs": [],
   "source": []
  }
 ],
 "metadata": {
  "kernelspec": {
   "display_name": "Python 3 (ipykernel)",
   "language": "python",
   "name": "python3"
  },
  "language_info": {
   "codemirror_mode": {
    "name": "ipython",
    "version": 3
   },
   "file_extension": ".py",
   "mimetype": "text/x-python",
   "name": "python",
   "nbconvert_exporter": "python",
   "pygments_lexer": "ipython3",
   "version": "3.11.5"
  }
 },
 "nbformat": 4,
 "nbformat_minor": 5
}
